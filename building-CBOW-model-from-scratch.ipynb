{
 "cells": [
  {
   "cell_type": "markdown",
   "id": "introductory-promotion",
   "metadata": {},
   "source": [
    "### Imports"
   ]
  },
  {
   "cell_type": "code",
   "execution_count": 48,
   "id": "93c6514d",
   "metadata": {},
   "outputs": [
    {
     "name": "stderr",
     "output_type": "stream",
     "text": [
      "[nltk_data] Downloading package stopwords to\n",
      "[nltk_data]     C:\\Users\\User\\AppData\\Roaming\\nltk_data...\n",
      "[nltk_data]   Package stopwords is already up-to-date!\n",
      "[nltk_data] Downloading package punkt to\n",
      "[nltk_data]     C:\\Users\\User\\AppData\\Roaming\\nltk_data...\n",
      "[nltk_data]   Package punkt is already up-to-date!\n"
     ]
    }
   ],
   "source": [
    "from sklearn.feature_extraction.text import CountVectorizer\n",
    "import numpy as np\n",
    "from sklearn.datasets import fetch_20newsgroups\n",
    "import matplotlib.pyplot as plt\n",
    "import re\n",
    "from textblob import TextBlob\n",
    "\n",
    "import nltk\n",
    "nltk.download('stopwords')\n",
    "nltk.download('punkt')\n",
    "\n",
    "\n",
    "from nltk.stem import PorterStemmer, WordNetLemmatizer\n",
    "\n",
    "from nltk.tokenize import word_tokenize\n",
    "from nltk.corpus import stopwords\n",
    "\n",
    "import pandas as pd\n",
    "\n",
    "from keras.models import Sequential\n",
    "from keras.layers import Dense\n",
    "\n",
    "from nltk import ngrams\n",
    "from nltk import bigrams\n",
    "from nltk import trigrams\n",
    "\n",
    "from scipy.stats import pearsonr\n",
    "\n",
    "from sklearn.neighbors import NearestNeighbors\n",
    "\n",
    "import random\n",
    "\n",
    "from gensim.models import Word2Vec"
   ]
  },
  {
   "cell_type": "code",
   "execution_count": null,
   "id": "useful-speaker",
   "metadata": {},
   "outputs": [],
   "source": [
    "### steps to build a CBOW model\n",
    "- import and preprocess the text\n",
    "- window the data to create x (context words) and y (center word)\n",
    "- convert the context words and center word into vectors. each vector has the size of vocab length\n",
    "- "
   ]
  },
  {
   "cell_type": "code",
   "execution_count": 2,
   "id": "067a37ce",
   "metadata": {},
   "outputs": [],
   "source": [
    "stop_words = set(stopwords.words('english'))"
   ]
  },
  {
   "cell_type": "markdown",
   "id": "exempt-namibia",
   "metadata": {},
   "source": [
    "### import the data and store it as an array in the variable: corpus"
   ]
  },
  {
   "cell_type": "code",
   "execution_count": 3,
   "id": "740d6fcc",
   "metadata": {},
   "outputs": [],
   "source": [
    "data = pd.read_csv('blogtext_5k.csv')\n",
    "corpus = data['text'].values"
   ]
  },
  {
   "cell_type": "code",
   "execution_count": 4,
   "id": "c84fe0a9",
   "metadata": {},
   "outputs": [
    {
     "data": {
      "text/plain": [
       "'           Info has been found (+/- 100 pages, and 4.5 MB of .pdf files) Now i have to wait untill our team leader has processed it and learns html.         '"
      ]
     },
     "execution_count": 4,
     "metadata": {},
     "output_type": "execute_result"
    }
   ],
   "source": [
    "corpus[0]"
   ]
  },
  {
   "cell_type": "code",
   "execution_count": 5,
   "id": "96dd3d87",
   "metadata": {},
   "outputs": [],
   "source": [
    "lemmatizer = WordNetLemmatizer()\n",
    "\n",
    "def preprocess(corpus):\n",
    "    # loop through each document in the corpus\n",
    "    for i in range(len(corpus)):\n",
    "        # remove extra whitespace, lowercase all letters, and convert '\\n' to ' '\n",
    "        string = re.sub('\\n',' ',corpus[i].strip().lower())\n",
    "        # remove all characters which aren't letters or spaces\n",
    "        string = re.sub('[^a-z ]','',string)\n",
    "\n",
    "        # lemmatize all words\n",
    "        string = \" \".join([lemmatizer.lemmatize(word) for word in string.split()])\n",
    "        corpus[i] = string\n",
    "    \n",
    "    return corpus"
   ]
  },
  {
   "cell_type": "code",
   "execution_count": 6,
   "id": "ddeab473",
   "metadata": {},
   "outputs": [],
   "source": [
    "corpus = preprocess(corpus)"
   ]
  },
  {
   "cell_type": "code",
   "execution_count": 7,
   "id": "27af53b2",
   "metadata": {},
   "outputs": [
    {
     "data": {
      "text/plain": [
       "'info ha been found page and mb of pdf file now i have to wait untill our team leader ha processed it and learns html'"
      ]
     },
     "execution_count": 7,
     "metadata": {},
     "output_type": "execute_result"
    }
   ],
   "source": [
    "corpus[0]"
   ]
  },
  {
   "cell_type": "markdown",
   "id": "german-database",
   "metadata": {},
   "source": [
    "### Here, we go through the full corpus taking a window size of 5.\n",
    "### This means that we count the two words before and two words after as context words, and the center word is the word which we need to predict"
   ]
  },
  {
   "cell_type": "code",
   "execution_count": 8,
   "id": "6e7cb7b9",
   "metadata": {},
   "outputs": [],
   "source": [
    "def window(corpus, w_size):\n",
    "    \n",
    "    # window size has to be odd\n",
    "    assert( w_size % 2 != 0 )\n",
    "\n",
    "    x = [] # context words\n",
    "    y = [] # center word\n",
    "    \n",
    "    for sent in corpus:\n",
    "\n",
    "        sent = sent.split(' ')\n",
    "        i = 0\n",
    "        mid = int(w_size / 2)\n",
    "\n",
    "        while i <= len(sent) - w_size:\n",
    "            target = sent[i+mid]\n",
    "            context = sent[i:i+mid] + sent[i+mid+1:i+w_size]\n",
    "\n",
    "            x += context\n",
    "            y.append(target)\n",
    "            i += 1\n",
    "    return x,y\n"
   ]
  },
  {
   "cell_type": "code",
   "execution_count": 9,
   "id": "ruled-association",
   "metadata": {},
   "outputs": [],
   "source": [
    "x,y = window(corpus, 5)"
   ]
  },
  {
   "cell_type": "code",
   "execution_count": 11,
   "id": "7cf6c599",
   "metadata": {},
   "outputs": [
    {
     "data": {
      "text/plain": [
       "CountVectorizer(min_df=4)"
      ]
     },
     "execution_count": 11,
     "metadata": {},
     "output_type": "execute_result"
    }
   ],
   "source": [
    "# initizalize and fit the vectorizer\n",
    "vec = CountVectorizer(ngram_range=(1, 1), min_df=4)\n",
    "vec.fit(corpus)"
   ]
  },
  {
   "cell_type": "code",
   "execution_count": 12,
   "id": "20ce2ecd",
   "metadata": {},
   "outputs": [
    {
     "data": {
      "text/plain": [
       "(2906472, 726618)"
      ]
     },
     "execution_count": 12,
     "metadata": {},
     "output_type": "execute_result"
    }
   ],
   "source": [
    "len(x), len(y)"
   ]
  },
  {
   "cell_type": "markdown",
   "id": "assigned-bleeding",
   "metadata": {},
   "source": [
    "### x is 4 times the length of y because for each center word, we have 4 context words. We will reshape the inputs in the generator function below\n",
    "\n",
    "### a custom generator function is built to reduce memory. This generator will be fed to the keras model"
   ]
  },
  {
   "cell_type": "code",
   "execution_count": 13,
   "id": "fc09f5ee",
   "metadata": {},
   "outputs": [],
   "source": [
    "def gen():\n",
    "    batch_size = 100\n",
    "    batch_size_2 = 400\n",
    "    \n",
    "    i = 0\n",
    "    j = 0\n",
    "    while True:\n",
    "        # vectorize the context words and center word\n",
    "        features = vec.transform(x[j:j+batch_size_2])\n",
    "        labels = vec.transform(y[i:i+batch_size])\n",
    "        \n",
    "        # reshape the context words to have 4 words per datapoint\n",
    "        features = features.toarray().reshape(\n",
    "            int(features.shape[0]/4),4,-1).mean(axis=1)\n",
    "        \n",
    "        \n",
    "        yield features, labels.todense()\n",
    "        \n",
    "        \n",
    "        i += batch_size\n",
    "        j += batch_size_2\n",
    "        if i + batch_size > features.shape[0]:\n",
    "            i = 0\n",
    "            j = 0"
   ]
  },
  {
   "cell_type": "code",
   "execution_count": 14,
   "id": "f4fab541",
   "metadata": {},
   "outputs": [
    {
     "data": {
      "text/plain": [
       "8492"
      ]
     },
     "execution_count": 14,
     "metadata": {},
     "output_type": "execute_result"
    }
   ],
   "source": [
    "len(vec.vocabulary_)"
   ]
  },
  {
   "cell_type": "markdown",
   "id": "accompanied-honduras",
   "metadata": {},
   "source": [
    "### create and fit the ANN"
   ]
  },
  {
   "cell_type": "code",
   "execution_count": 15,
   "id": "7ce412a9",
   "metadata": {},
   "outputs": [
    {
     "name": "stdout",
     "output_type": "stream",
     "text": [
      "Epoch 1/6\n",
      "7266/7266 [==============================] - 231s 32ms/step - loss: 1.7245 - accuracy: 0.3789\n",
      "Epoch 2/6\n",
      "7266/7266 [==============================] - 231s 32ms/step - loss: 1.3783 - accuracy: 0.4099\n",
      "Epoch 3/6\n",
      "7266/7266 [==============================] - 230s 32ms/step - loss: 1.3090 - accuracy: 0.3986\n",
      "Epoch 4/6\n",
      "7266/7266 [==============================] - 231s 32ms/step - loss: 1.2974 - accuracy: 0.3957\n",
      "Epoch 5/6\n",
      "7266/7266 [==============================] - 232s 32ms/step - loss: 1.2831 - accuracy: 0.3918\n",
      "Epoch 6/6\n",
      "7266/7266 [==============================] - 232s 32ms/step - loss: 1.2516 - accuracy: 0.3868\n"
     ]
    }
   ],
   "source": [
    "gen1 = gen()\n",
    "\n",
    "model = Sequential()\n",
    "model.add(Dense(80, input_dim=len(vec.vocabulary_), activation='relu'))\n",
    "model.add(Dense(len(vec.vocabulary_), activation='softmax'))\n",
    "\n",
    "model.compile(loss='categorical_crossentropy', optimizer='adam', metrics=['accuracy'])\n",
    "\n",
    "history = model.fit(gen1, steps_per_epoch=int(len(y)/100), verbose=True, epochs=6, batch_size=100)"
   ]
  },
  {
   "cell_type": "code",
   "execution_count": 16,
   "id": "4ff044a8",
   "metadata": {},
   "outputs": [
    {
     "data": {
      "image/png": "[encoded data removed]",
      "text/plain": [
       "<Figure size 432x288 with 1 Axes>"
      ]
     },
     "metadata": {
      "needs_background": "light"
     },
     "output_type": "display_data"
    }
   ],
   "source": [
    "plt.plot(history.history['loss'])\n",
    "plt.title('loss over epochs')\n",
    "plt.show()"
   ]
  },
  {
   "cell_type": "code",
   "execution_count": 17,
   "id": "73acdc1d",
   "metadata": {},
   "outputs": [],
   "source": [
    "# take the weights of the first layers as the embeddings\n",
    "embeddings = model.layers[0].weights[0].numpy()"
   ]
  },
  {
   "cell_type": "code",
   "execution_count": 18,
   "id": "94e31813",
   "metadata": {},
   "outputs": [
    {
     "name": "stdout",
     "output_type": "stream",
     "text": [
      "embedings.shape: (8492, 80)\n",
      "len(vec.vocabulary_): 8492\n"
     ]
    }
   ],
   "source": [
    "print(f'embedings.shape: {embeddings.shape}')\n",
    "print(f'len(vec.vocabulary_): {len(vec.vocabulary_)}')"
   ]
  },
  {
   "cell_type": "markdown",
   "id": "tender-ceramic",
   "metadata": {},
   "source": [
    "### we can test the quality of the embeddings by sampling some words and listing other words with similar embeddings"
   ]
  },
  {
   "cell_type": "code",
   "execution_count": 19,
   "id": "df948b40",
   "metadata": {},
   "outputs": [],
   "source": [
    "nbrs = NearestNeighbors(n_neighbors=4, algorithm='ball_tree', metric='l2').fit(embeddings)"
   ]
  },
  {
   "cell_type": "code",
   "execution_count": 20,
   "id": "august-centre",
   "metadata": {},
   "outputs": [],
   "source": [
    "vocab = vec.vocabulary_\n",
    "inv_vocab = {v: k for k, v in vocab.items()}"
   ]
  },
  {
   "cell_type": "code",
   "execution_count": 39,
   "id": "controlled-traveler",
   "metadata": {},
   "outputs": [
    {
     "name": "stdout",
     "output_type": "stream",
     "text": [
      "hiding : dip wound entitled\n",
      "mailbox : permit owing shot\n",
      "opted : flirting soil slab\n",
      "slipped : age shark hack\n",
      "doe : jefferson staircase outta\n",
      "esp : simply draped editor\n",
      "tender : meat dispute seen\n",
      "require : borrow separated tart\n",
      "meant : remark rack immature\n",
      "regarded : humble voucher gah\n",
      "pope : warped giddy cynical\n",
      "did : yes sisterinlaw symbol\n",
      "reminded : kick principal dummy\n",
      "hooked : teacher block commie\n",
      "hottie : ski rolled relief\n",
      "son : however eternity halfway\n",
      "touched : grilled blessing hmmmmm\n",
      "expected : justice monthly deep\n",
      "dimension : coveted gotta scifi\n",
      "arrogant : carried company screwing\n",
      "cellphone : shade distract sydney\n",
      "facet : invented government modeling\n",
      "booty : worldly his dare\n",
      "black : referring line yo\n",
      "patrol : laden essential wildly\n",
      "corner : energy skim flush\n",
      "junior : correctly landing being\n",
      "wondering : ironic spreading tiger\n",
      "lecture : guided glow truth\n",
      "next : milpitas offend series\n"
     ]
    }
   ],
   "source": [
    "# get 30 random words in the vocabulary\n",
    "words = []\n",
    "\n",
    "for i in range(30):\n",
    "    word = random.choice(list(vocab))\n",
    "    \n",
    "    words.append(word)\n",
    "    \n",
    "    idx = vocab[word]\n",
    "        \n",
    "    embedding = embeddings[idx].reshape(1,-1)\n",
    "    \n",
    "    distances, indices = nbrs.kneighbors(embedding)\n",
    "    \n",
    "    # remove the first word since it's always the same word which we're trying to get the neigbhors of\n",
    "    indices = indices[0][1:]\n",
    "    \n",
    "    print(\n",
    "        word,\n",
    "        ':',\n",
    "        *[inv_vocab[w] for w in indices]\n",
    "    )\n",
    "    "
   ]
  },
  {
   "cell_type": "markdown",
   "id": "bizarre-configuration",
   "metadata": {},
   "source": [
    "### based on the above results, the quality of the embeddings does not seem very high\n",
    "### possible improvements include: \n",
    "- using a much larger corpus. this is a very small corpus for training such a model\n",
    "- larger vector embeddings\n",
    "- training the data on more epochs\n",
    "- better preprocessing of the corpus such as autocorrecting misspelled words"
   ]
  },
  {
   "cell_type": "markdown",
   "id": "unlikely-period",
   "metadata": {},
   "source": [
    "# ------------------------------------------------------------------------------------------------------------"
   ]
  },
  {
   "cell_type": "markdown",
   "id": "combined-german",
   "metadata": {},
   "source": [
    "### testing a ready Word2Vec model on the same corpus"
   ]
  },
  {
   "cell_type": "code",
   "execution_count": 49,
   "id": "public-archives",
   "metadata": {},
   "outputs": [],
   "source": [
    "corpus_as_list = [sentence.split() for sentence in corpus]"
   ]
  },
  {
   "cell_type": "code",
   "execution_count": 50,
   "id": "loaded-andrew",
   "metadata": {},
   "outputs": [],
   "source": [
    "# fitting the word2vec model\n",
    "model = Word2Vec(sentences=corpus_as_list, size=80, window=5, min_count=1, workers=4)"
   ]
  },
  {
   "cell_type": "code",
   "execution_count": 52,
   "id": "demonstrated-milwaukee",
   "metadata": {},
   "outputs": [
    {
     "name": "stdout",
     "output_type": "stream",
     "text": [
      "hiding : connected race except\n",
      "mailbox : pant hair throat\n",
      "opted : buck nurturing prop\n",
      "slipped : returned flew hit\n",
      "doe : doesnt meant exactly\n",
      "esp : english sucked charles\n",
      "tender : oakland university quarterly\n",
      "require : extend appear increase\n",
      "meant : rude comfortable impossible\n",
      "regarded : urban canadian sealed\n",
      "pope : envelope spokesman eugene\n",
      "did : shouldnt sux clumsily\n",
      "reminded : crazy noticing mention\n",
      "hooked : hook finger lay\n",
      "hottie : baked agains spoiling\n",
      "son : father neck kaptur\n",
      "touched : dean kerry displayed\n",
      "expected : unfortunately serious lucky\n",
      "dimension : misuse term importantly\n",
      "arrogant : presidential rat carefully\n",
      "cellphone : form simplicity inspiration\n",
      "facet : moral devoid emotion\n",
      "booty : sprinkling barking headset\n",
      "black : chain ice brown\n",
      "patrol : quietly colin removed\n",
      "corner : side area bus\n",
      "junior : grandmother defense empty\n",
      "wondering : exactly kidding yes\n",
      "lecture : september foot chair\n",
      "next : over every sunday\n"
     ]
    }
   ],
   "source": [
    "# testing word2vec on the same words as tested above\n",
    "for word in words:\n",
    "    vector = model.wv[word]  # get numpy vector of a word\n",
    "    sims = model.wv.most_similar(word, topn=10)  # g\n",
    "    \n",
    "    print(\n",
    "        word,\n",
    "        ':',\n",
    "        *[w[0] for w in sims[0:3]])"
   ]
  },
  {
   "cell_type": "code",
   "execution_count": null,
   "id": "circular-antenna",
   "metadata": {},
   "outputs": [],
   "source": []
  }
 ],
 "metadata": {
  "kernelspec": {
   "display_name": "Python 3",
   "language": "python",
   "name": "python3"
  },
  "language_info": {
   "codemirror_mode": {
    "name": "ipython",
    "version": 3
   },
   "file_extension": ".py",
   "mimetype": "text/x-python",
   "name": "python",
   "nbconvert_exporter": "python",
   "pygments_lexer": "ipython3",
   "version": "3.8.5"
  }
 },
 "nbformat": 4,
 "nbformat_minor": 5
}
